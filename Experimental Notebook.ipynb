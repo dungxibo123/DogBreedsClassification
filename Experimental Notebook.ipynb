{
  "nbformat": 4,
  "nbformat_minor": 0,
  "metadata": {
    "colab": {
      "provenance": [],
      "gpuType": "T4"
    },
    "kernelspec": {
      "name": "python3",
      "display_name": "Python 3"
    },
    "language_info": {
      "name": "python"
    },
    "accelerator": "GPU"
  },
  "cells": [
    {
      "cell_type": "code",
      "execution_count": null,
      "metadata": {
        "id": "dTQQhEe7k0Ok"
      },
      "outputs": [],
      "source": [
        "!mkdir -p ~/.kaggle\n",
        "!mv kaggle.json ~/.kaggle/\n",
        "!chmod 400 ~/.kaggle/kaggle.json"
      ]
    },
    {
      "cell_type": "code",
      "source": [
        "!pip install -U kaggle\n",
        "!kaggle datasets download -d jessicali9530/stanford-dogs-dataset\n",
        "!unzip -qq stanford-dogs-dataset.zip -d data/"
      ],
      "metadata": {
        "colab": {
          "base_uri": "https://localhost:8080/"
        },
        "id": "h-hQmowxlgFx",
        "outputId": "79146d58-4a4b-499f-b63d-e09895571c05"
      },
      "execution_count": null,
      "outputs": [
        {
          "output_type": "stream",
          "name": "stdout",
          "text": [
            "Requirement already satisfied: kaggle in /usr/local/lib/python3.10/dist-packages (1.5.16)\n",
            "Requirement already satisfied: six>=1.10 in /usr/local/lib/python3.10/dist-packages (from kaggle) (1.16.0)\n",
            "Requirement already satisfied: certifi in /usr/local/lib/python3.10/dist-packages (from kaggle) (2023.5.7)\n",
            "Requirement already satisfied: python-dateutil in /usr/local/lib/python3.10/dist-packages (from kaggle) (2.8.2)\n",
            "Requirement already satisfied: requests in /usr/local/lib/python3.10/dist-packages (from kaggle) (2.27.1)\n",
            "Requirement already satisfied: tqdm in /usr/local/lib/python3.10/dist-packages (from kaggle) (4.65.0)\n",
            "Requirement already satisfied: python-slugify in /usr/local/lib/python3.10/dist-packages (from kaggle) (8.0.1)\n",
            "Requirement already satisfied: urllib3 in /usr/local/lib/python3.10/dist-packages (from kaggle) (1.26.16)\n",
            "Requirement already satisfied: bleach in /usr/local/lib/python3.10/dist-packages (from kaggle) (6.0.0)\n",
            "Requirement already satisfied: webencodings in /usr/local/lib/python3.10/dist-packages (from bleach->kaggle) (0.5.1)\n",
            "Requirement already satisfied: text-unidecode>=1.3 in /usr/local/lib/python3.10/dist-packages (from python-slugify->kaggle) (1.3)\n",
            "Requirement already satisfied: charset-normalizer~=2.0.0 in /usr/local/lib/python3.10/dist-packages (from requests->kaggle) (2.0.12)\n",
            "Requirement already satisfied: idna<4,>=2.5 in /usr/local/lib/python3.10/dist-packages (from requests->kaggle) (3.4)\n",
            "Downloading stanford-dogs-dataset.zip to /content\n",
            "100% 748M/750M [00:06<00:00, 171MB/s]\n",
            "100% 750M/750M [00:06<00:00, 113MB/s]\n"
          ]
        }
      ]
    },
    {
      "cell_type": "code",
      "source": [
        "!mkdir -p checkpoint"
      ],
      "metadata": {
        "id": "3muU7ZfryNmg"
      },
      "execution_count": null,
      "outputs": []
    },
    {
      "cell_type": "code",
      "source": [
        "import os, sys\n",
        "import shutil\n",
        "images_dir = '/content/data/images/Images'\n",
        "listdir = os.listdir(images_dir)\n",
        "di = []\n",
        "for folder in listdir:\n",
        "  #print(folder, len(os.listdir(images_dir + '/' + folder)))\n",
        "  di.append((folder, len(os.listdir(images_dir + '/' + folder)) ))\n",
        "\n",
        "di.sort(key=lambda x: x[1], reverse=True)\n",
        "!rm -rf /content/data/images/CloneImages\n",
        "#print(*di[:5], sep=\"\\n\")\n",
        "clone_dir = '/content/data/images/CloneImages'\n",
        "os.makedirs('/content/data/images/CloneImages',exist_ok = True)\n",
        "for folder, _ in di[0:20]:\n",
        "  shutil.copytree(images_dir + '/' + folder, clone_dir + '/' + folder)"
      ],
      "metadata": {
        "id": "u8uSAxQNl3ds"
      },
      "execution_count": null,
      "outputs": []
    },
    {
      "cell_type": "code",
      "source": [],
      "metadata": {
        "id": "ox4bZS-WihXa"
      },
      "execution_count": null,
      "outputs": []
    },
    {
      "cell_type": "code",
      "source": [
        "# data.py\n",
        "import torch.nn as nn\n",
        "import torch\n",
        "from torchvision.datasets import ImageFolder\n",
        "from torchvision import transforms\n",
        "from torch.utils.data import DataLoader, random_split\n",
        "\n",
        "\n",
        "\n",
        "def getTrainValLoader(opt):\n",
        "  image_transforms = transforms.Compose([\n",
        "      transforms.RandomRotation(10),\n",
        "      transforms.RandomHorizontalFlip(p=0.5),\n",
        "      transforms.Resize(256),\n",
        "      transforms.CenterCrop(224),\n",
        "      transforms.ToTensor(),\n",
        "      transforms.Normalize(mean=[0.485, 0.456, 0.406], std=[0.229, 0.224, 0.225]),\n",
        "  ])\n",
        "\n",
        "  target_transforms = transforms.Lambda(lambda y: torch.zeros(opt['num_classes'],\n",
        "                                                              dtype=torch.float).scatter_(0,\n",
        "                                                                                         torch.tensor(y),\n",
        "                                                                                          value=1))\n",
        "  dataset = ImageFolder(opt['data_folder'],\n",
        "                        transform=image_transforms,\n",
        "                        target_transform=target_transforms\n",
        "                        )\n",
        "\n",
        "  train_set, valid_set = random_split(dataset, [1 - opt['validation_split'], opt['validation_split']])\n",
        "\n",
        "  train_loader = DataLoader(train_set, batch_size=opt['batch_size'], shuffle=True, drop_last=True)\n",
        "  valid_loader = DataLoader(valid_set, batch_size=opt['val_batch_size'], shuffle=False)\n",
        "  return train_loader, valid_loader\n",
        "#getTrainValLoader(opt)"
      ],
      "metadata": {
        "id": "Kxl3KC1RmWMp"
      },
      "execution_count": null,
      "outputs": []
    },
    {
      "cell_type": "code",
      "source": [
        "# model.py\n",
        "import torch.nn as nn\n",
        "import torch\n",
        "from tqdm import tqdm\n",
        "from torchvision.datasets import ImageFolder\n",
        "from torchvision import transforms\n",
        "from torch.utils.data import DataLoader, random_split\n",
        "import torchvision\n",
        "import torch.nn.functional as F\n",
        "import datetime\n",
        "from torch.optim.lr_scheduler import ReduceLROnPlateau, MultiStepLR\n",
        "\n",
        "\n",
        "model_dict = {\n",
        "    'resnet18': torchvision.models.resnet18,\n",
        "    'resnet34': torchvision.models.resnet34,\n",
        "    'resnet50': torchvision.models.resnet50,\n",
        "    'resnet101': torchvision.models.resnet101,\n",
        "    'resnet152': torchvision.models.resnet152\n",
        "}\n",
        "def create_model(opt):\n",
        "  model_ft = model_dict[opt['model']](progress=False, weights=opt['pretrained_weights'])\n",
        "  for param in model_ft.parameters():\n",
        "    param.requires_grad = False\n",
        "  num_ftrs = model_ft.fc.in_features\n",
        "\n",
        "\n",
        "  model_ft.fc = nn.Sequential(\n",
        "      nn.Linear(num_ftrs, opt['num_hidden']),\n",
        "      nn.ReLU(),\n",
        "      nn.Dropout(opt['dropout']),\n",
        "      nn.Linear(opt['num_hidden'], opt['num_classes']),\n",
        "      nn.Softmax(dim=1)\n",
        "  )\n",
        "  return model_ft\n",
        "\n",
        "def criterion():\n",
        "    return F.cross_entropy\n",
        "def evaluate(model, val_loader, opt):\n",
        "    model.eval()\n",
        "    correct = 0\n",
        "    total = 0\n",
        "    running_loss = 0\n",
        "    count = 0\n",
        "    with torch.no_grad():\n",
        "        for batch_id , test_data in enumerate(val_loader,0):\n",
        "            count += 1\n",
        "            data, label = test_data\n",
        "            #label = F.one_hot(label, num_classes=opt.num_classes)\n",
        "            if opt['use_gpu']:\n",
        "                data = data.to(\"cuda\")\n",
        "                label = label.to(\"cuda\")\n",
        "            outputs = model(data)\n",
        "            _, correct_labels = torch.max(label, 1)\n",
        "            _, predicted = torch.max(outputs.data, 1)\n",
        "            total += label.size(0)\n",
        "            correct += (predicted == correct_labels).sum().item()\n",
        "            running_loss += criterion()(\n",
        "                outputs.float(), label.float()).item()\n",
        "    #        print(f\"--> Total {total}\\n-->batch_id: {batch_id + 1}\")\n",
        "    acc = round(correct/total * 1.0 , 5)\n",
        "    running_loss /= count\n",
        "    return running_loss, acc\n",
        "def train_one_iter(model, optim, train_load, val_loader, opt, epoch, lr_scheduler):\n",
        "    losses = 0\n",
        "    total_correct = 0\n",
        "    total_sample = 0\n",
        "    model.train()\n",
        "    with tqdm(train_load,  unit=\"batch\", position=0, leave=True) as tp:\n",
        "        tp.set_description(f\"Epoch {epoch}/{opt['epoch']}\")\n",
        "        for (batch_x, batch_y) in tp:\n",
        "\n",
        "            optim.zero_grad()\n",
        "            #batch_y = torch.nn.functional.one_hot(batch_y, num_classes = opt.num_classes)\n",
        "            if opt['use_gpu']:\n",
        "                batch_x = batch_x.to(\"cuda\")\n",
        "                batch_y = batch_y.to(\"cuda\")\n",
        "            outputs = model(batch_x)\n",
        "            _, correct_labels = torch.max(batch_y, 1)\n",
        "            _, predicted = torch.max(outputs.data, 1)\n",
        "            total = batch_y.size(0)\n",
        "            correct = (predicted == correct_labels).sum().item()\n",
        "            total_correct += correct\n",
        "            total_sample += total\n",
        "            train_acc = round(total_correct / total_sample, 5)\n",
        "            loss = criterion()(outputs.float(), batch_y.float())\n",
        "            loss_item = loss.item()\n",
        "            losses += loss_item\n",
        "            loss.backward()\n",
        "            optim.step()\n",
        "            tp.set_postfix(loss=loss_item, train_acc=train_acc)\n",
        "        val_loss, val_acc = evaluate(model, val_loader, opt)\n",
        "        lr_scheduler.step()\n",
        "        losses /= len(tp)\n",
        "        print(f\"Epoch {epoch}/{opt['epoch']} is finished with validation accuracy is {val_acc}\")\n",
        "\n",
        "    return model, optim, losses, total_correct / total_sample, val_loss, val_acc\n",
        "def load_from_checkpoint(option):\n",
        "    ckpt = torch.load(option['continual_checkpoint_pth'])\n",
        "    opt = ckpt['opt']\n",
        "    model = create_model(opt)\n",
        "    model = model.to(ckpt['device'])\n",
        "    model.load_state_dict(ckpt['model_state_dict'])\n",
        "    optim = None\n",
        "    if opt['optimizer'] == \"sgd\":\n",
        "        optim = torch.optim.SGD(model.parameters())\n",
        "    elif opt['optimizer'] == \"adam\":\n",
        "        optim = torch.optim.Adam(model.parameters())\n",
        "    elif opt['optimizer'] == \"adamw\":\n",
        "        optim = torch.optim.AdamW(model.parameters())\n",
        "    optim.load_state_dict(ckpt['optimizer_state_dict'])\n",
        "\n",
        "    return model,\\\n",
        "           optim,\\\n",
        "           ckpt['epoch'],\\\n",
        "           ckpt['losses'],\\\n",
        "           ckpt['val_losses'],\\\n",
        "           ckpt['train_acc'],\\\n",
        "           ckpt['val_acc'],\\\n",
        "           opt\n",
        "\n",
        "def training_process(opt):\n",
        "    train_loader, val_loader = getTrainValLoader(opt)\n",
        "\n",
        "    if opt['resume_from_checkpoint']:\n",
        "      model, optim, init_epoch, losses,  val_losses, train_accuracies, val_accuracies, opt = load_from_checkpoint(opt)\n",
        "      #best_model = model\n",
        "      #best_val_acc = ckpt\n",
        "      #\n",
        "    else:\n",
        "\n",
        "      model = create_model(opt)\n",
        "      best_model = None\n",
        "      best_val_acc = 0\n",
        "      best_epoch = -1\n",
        "      losses = []\n",
        "      val_accuracies = []\n",
        "      val_losses = []\n",
        "      init_epoch = 1\n",
        "      train_accuracies = []\n",
        "\n",
        "      optim = None\n",
        "      if opt['optimizer'] == \"sgd\":\n",
        "          optim = torch.optim.SGD(model.parameters(), lr=opt['learning_rate'], weight_decay=opt['weight_decay'], nesterov=True)\n",
        "      elif opt['optimizer'] == \"adam\":\n",
        "          optim = torch.optim.Adam(model.parameters(), lr=opt['learning_rate'], weight_decay=opt['weight_decay'], eps=1e-7)\n",
        "      elif opt['optimizer'] == \"adamw\":\n",
        "          optim = torch.optim.AdamW(model.parameters(), lr=opt['learning_rate'], weight_decay=opt['weight_decay'], eps=1e-7)\n",
        "    if opt['use_gpu'] and torch.cuda.is_available():\n",
        "        model = model.to(\"cuda\")\n",
        "\n",
        "\n",
        "\n",
        "    now = datetime.datetime.now()\n",
        "    #tags = {\"author\": \"Dung Vo\", \"data\": opt.data}\n",
        "    #runName = f\"Data: {opt.data}_Optimization: {opt.optimizer}_LR: {opt.learning_rate}_Batch Size: {opt.batch_size}_DropOut: {opt.dropout}_{datetime.datetime.strftime(now, format='%Y%m%d%H%M%S')}\"\n",
        "\n",
        "\n",
        "    lr_scheduler = MultiStepLR(optim, milestones=[5, 10, 15, 20, 25, 30], gamma=0.2, verbose=True)\n",
        "    #reduceLROnPlateau = ReduceLROnPlateau(optim, patience=2, factor=0.1)\n",
        "    patience_cnt = 0\n",
        "    for i in range(1, opt['epoch']+1):\n",
        "\n",
        "\n",
        "        model, optim, epoch_loss, train_acc, val_loss, val_acc = train_one_iter(model,\n",
        "                                                                                optim, train_loader,\n",
        "                                                                                val_loader, opt, epoch = i,\n",
        "                                                                                lr_scheduler=lr_scheduler\n",
        "                                                                               )\n",
        "        losses.append(epoch_loss)\n",
        "        val_losses.append(val_loss)\n",
        "        val_accuracies.append(val_acc)\n",
        "        train_accuracies.append(train_acc)\n",
        "        if i % opt['checkpoint_save_freq'] == 0 and opt['save_checkpoint']:\n",
        "            torch.save({\n",
        "                'opt': opt,\n",
        "                'epoch': i,\n",
        "                'model_state_dict': model.state_dict(),\n",
        "                'optimizer_state_dict': optim.state_dict(),\n",
        "                'losses': losses,\n",
        "                'val_losses': val_losses,\n",
        "                'train_acc': train_accuracies,\n",
        "                'val_acc': val_accuracies,\n",
        "                'device': \"cuda\" if opt['use_gpu'] and torch.cuda.is_available() else \"cpu\"\n",
        "            }, opt['checkpoint_pth']  + f\"/checkpoint_e{i}.pt\")\n",
        "        if val_acc > best_val_acc:\n",
        "            best_model = model\n",
        "            best_val_acc = val_acc\n",
        "            best_epoch = i\n",
        "            patience_cnt = 0 # Reset the patience_cnt\n",
        "        else: # Increase the patience for early_stopping if metric does not improve\n",
        "            patience_cnt += 1\n",
        "            if patience_cnt > opt['patience']:\n",
        "                break\n",
        "\n",
        "\n",
        "\n",
        "    torch.save({\n",
        "        'opt': opt,\n",
        "        'model_state_dict': best_model.state_dict(),\n",
        "        'optimizer_state_dict': optim.state_dict(),\n",
        "        'epoch': best_epoch,\n",
        "        'losses': losses[:best_epoch],\n",
        "        'val_losses': val_losses[:best_epoch],\n",
        "        'train_acc': train_accuracies[:best_epoch],\n",
        "        'val_acc': val_accuracies[:best_epoch],\n",
        "        'device': \"cuda\" if opt['use_gpu'] and torch.cuda.is_available() else \"cpu\"\n",
        "\n",
        "    }, opt['checkpoint_pth'] + \"/final_model.pt\")\n",
        "    return best_model, losses, val_losses, train_accuracies, val_accuracies"
      ],
      "metadata": {
        "id": "zbKtdbjfLeBa"
      },
      "execution_count": null,
      "outputs": []
    },
    {
      "cell_type": "code",
      "source": [
        "\n",
        "opt = {\n",
        "    'data_folder': '/content/data/images/CloneImages',\n",
        "    'num_classes': 20,\n",
        "    'batch_size': 32,\n",
        "    'val_batch_size': 128,\n",
        "    'checkpoint_pth': './checkpoint/',\n",
        "    'resume_from_checkpoint': False,\n",
        "    'model': 'resnet50',\n",
        "    'pretrained_weights': 'IMAGENET1K_V2',\n",
        "    'epoch': 400,\n",
        "    'early_stopping': True,\n",
        "    'patience': 10,\n",
        "    'optimizer': 'adam',\n",
        "    'learning_rate': 0.005,\n",
        "    'weight_decay': 4e-3,\n",
        "    'use_gpu': True,\n",
        "    'checkpoint_save_freq': 5,\n",
        "    'validation_split': 0.2,\n",
        "    'dropout': 0.35,\n",
        "    'num_hidden': 512,\n",
        "    'save_checkpoint': True,\n",
        "    'continual_checkpoint_pth': '/content/checkpoint/final_model.pt'\n",
        "    #'continue_train': False\n",
        "}\n",
        "\n"
      ],
      "metadata": {
        "id": "hFNtRlN9W8JL"
      },
      "execution_count": null,
      "outputs": []
    },
    {
      "cell_type": "code",
      "source": [
        "model, losses, val_losses, train_acc, val_acc = training_process(opt)"
      ],
      "metadata": {
        "colab": {
          "base_uri": "https://localhost:8080/"
        },
        "id": "1gBaxj0xJCw_",
        "outputId": "35f4c573-825c-43ae-8ac8-9801d53d35de"
      },
      "execution_count": null,
      "outputs": [
        {
          "metadata": {
            "tags": null
          },
          "name": "stderr",
          "output_type": "stream",
          "text": [
            "Downloading: \"https://download.pytorch.org/models/resnet50-11ad3fa6.pth\" to /root/.cache/torch/hub/checkpoints/resnet50-11ad3fa6.pth\n"
          ]
        },
        {
          "metadata": {
            "tags": null
          },
          "name": "stdout",
          "output_type": "stream",
          "text": [
            "Adjusting learning rate of group 0 to 5.0000e-03.\n"
          ]
        },
        {
          "metadata": {
            "tags": null
          },
          "name": "stderr",
          "output_type": "stream",
          "text": [
            "Epoch 1/400: 100%|██████████| 106/106 [00:43<00:00,  2.43batch/s, loss=2.47, train_acc=0.541]\n"
          ]
        },
        {
          "metadata": {
            "tags": null
          },
          "name": "stdout",
          "output_type": "stream",
          "text": [
            "Adjusting learning rate of group 0 to 5.0000e-03.\n",
            "Epoch 1/400 is finished with validation accuracy is 0.73939\n"
          ]
        },
        {
          "metadata": {
            "tags": null
          },
          "name": "stderr",
          "output_type": "stream",
          "text": [
            "Epoch 2/400: 100%|██████████| 106/106 [00:36<00:00,  2.94batch/s, loss=2.33, train_acc=0.727]\n"
          ]
        },
        {
          "metadata": {
            "tags": null
          },
          "name": "stdout",
          "output_type": "stream",
          "text": [
            "Adjusting learning rate of group 0 to 5.0000e-03.\n",
            "Epoch 2/400 is finished with validation accuracy is 0.82547\n"
          ]
        },
        {
          "metadata": {
            "tags": null
          },
          "name": "stderr",
          "output_type": "stream",
          "text": [
            "Epoch 3/400: 100%|██████████| 106/106 [00:35<00:00,  2.97batch/s, loss=2.22, train_acc=0.754]\n"
          ]
        },
        {
          "metadata": {
            "tags": null
          },
          "name": "stdout",
          "output_type": "stream",
          "text": [
            "Adjusting learning rate of group 0 to 5.0000e-03.\n",
            "Epoch 3/400 is finished with validation accuracy is 0.81958\n"
          ]
        },
        {
          "metadata": {
            "tags": null
          },
          "name": "stderr",
          "output_type": "stream",
          "text": [
            "Epoch 4/400: 100%|██████████| 106/106 [00:35<00:00,  3.00batch/s, loss=2.4, train_acc=0.772]\n"
          ]
        },
        {
          "metadata": {
            "tags": null
          },
          "name": "stdout",
          "output_type": "stream",
          "text": [
            "Adjusting learning rate of group 0 to 5.0000e-03.\n",
            "Epoch 4/400 is finished with validation accuracy is 0.85849\n"
          ]
        },
        {
          "metadata": {
            "tags": null
          },
          "name": "stderr",
          "output_type": "stream",
          "text": [
            "Epoch 5/400: 100%|██████████| 106/106 [00:35<00:00,  2.96batch/s, loss=2.25, train_acc=0.763]\n"
          ]
        },
        {
          "metadata": {
            "tags": null
          },
          "name": "stdout",
          "output_type": "stream",
          "text": [
            "Adjusting learning rate of group 0 to 1.0000e-03.\n",
            "Epoch 5/400 is finished with validation accuracy is 0.87618\n"
          ]
        },
        {
          "metadata": {
            "tags": null
          },
          "name": "stderr",
          "output_type": "stream",
          "text": [
            "Epoch 6/400: 100%|██████████| 106/106 [00:35<00:00,  3.01batch/s, loss=2.16, train_acc=0.869]\n"
          ]
        },
        {
          "metadata": {
            "tags": null
          },
          "name": "stdout",
          "output_type": "stream",
          "text": [
            "Adjusting learning rate of group 0 to 1.0000e-03.\n",
            "Epoch 6/400 is finished with validation accuracy is 0.9092\n"
          ]
        },
        {
          "metadata": {
            "tags": null
          },
          "name": "stderr",
          "output_type": "stream",
          "text": [
            "Epoch 7/400: 100%|██████████| 106/106 [00:35<00:00,  2.95batch/s, loss=2.24, train_acc=0.881]\n"
          ]
        },
        {
          "metadata": {
            "tags": null
          },
          "name": "stdout",
          "output_type": "stream",
          "text": [
            "Adjusting learning rate of group 0 to 1.0000e-03.\n",
            "Epoch 7/400 is finished with validation accuracy is 0.89976\n"
          ]
        },
        {
          "metadata": {
            "tags": null
          },
          "name": "stderr",
          "output_type": "stream",
          "text": [
            "Epoch 8/400: 100%|██████████| 106/106 [00:35<00:00,  2.97batch/s, loss=2.41, train_acc=0.886]\n"
          ]
        },
        {
          "metadata": {
            "tags": null
          },
          "name": "stdout",
          "output_type": "stream",
          "text": [
            "Adjusting learning rate of group 0 to 1.0000e-03.\n",
            "Epoch 8/400 is finished with validation accuracy is 0.90684\n"
          ]
        },
        {
          "metadata": {
            "tags": null
          },
          "name": "stderr",
          "output_type": "stream",
          "text": [
            "Epoch 9/400: 100%|██████████| 106/106 [00:35<00:00,  2.97batch/s, loss=2.35, train_acc=0.887]\n"
          ]
        },
        {
          "metadata": {
            "tags": null
          },
          "name": "stdout",
          "output_type": "stream",
          "text": [
            "Adjusting learning rate of group 0 to 1.0000e-03.\n",
            "Epoch 9/400 is finished with validation accuracy is 0.91038\n"
          ]
        },
        {
          "metadata": {
            "tags": null
          },
          "name": "stderr",
          "output_type": "stream",
          "text": [
            "Epoch 10/400: 100%|██████████| 106/106 [00:35<00:00,  2.98batch/s, loss=2.17, train_acc=0.89]\n"
          ]
        },
        {
          "metadata": {
            "tags": null
          },
          "name": "stdout",
          "output_type": "stream",
          "text": [
            "Adjusting learning rate of group 0 to 2.0000e-04.\n",
            "Epoch 10/400 is finished with validation accuracy is 0.90802\n"
          ]
        },
        {
          "metadata": {
            "tags": null
          },
          "name": "stderr",
          "output_type": "stream",
          "text": [
            "Epoch 11/400: 100%|██████████| 106/106 [00:35<00:00,  3.00batch/s, loss=2.16, train_acc=0.901]\n"
          ]
        },
        {
          "metadata": {
            "tags": null
          },
          "name": "stdout",
          "output_type": "stream",
          "text": [
            "Adjusting learning rate of group 0 to 2.0000e-04.\n",
            "Epoch 11/400 is finished with validation accuracy is 0.91627\n"
          ]
        },
        {
          "metadata": {
            "tags": null
          },
          "name": "stderr",
          "output_type": "stream",
          "text": [
            "Epoch 12/400: 100%|██████████| 106/106 [00:35<00:00,  2.98batch/s, loss=2.23, train_acc=0.914]\n"
          ]
        },
        {
          "metadata": {
            "tags": null
          },
          "name": "stdout",
          "output_type": "stream",
          "text": [
            "Adjusting learning rate of group 0 to 2.0000e-04.\n",
            "Epoch 12/400 is finished with validation accuracy is 0.91509\n"
          ]
        },
        {
          "metadata": {
            "tags": null
          },
          "name": "stderr",
          "output_type": "stream",
          "text": [
            "Epoch 13/400: 100%|██████████| 106/106 [00:34<00:00,  3.03batch/s, loss=2.16, train_acc=0.919]\n"
          ]
        },
        {
          "metadata": {
            "tags": null
          },
          "name": "stdout",
          "output_type": "stream",
          "text": [
            "Adjusting learning rate of group 0 to 2.0000e-04.\n",
            "Epoch 13/400 is finished with validation accuracy is 0.91038\n"
          ]
        },
        {
          "metadata": {
            "tags": null
          },
          "name": "stderr",
          "output_type": "stream",
          "text": [
            "Epoch 14/400: 100%|██████████| 106/106 [00:35<00:00,  2.98batch/s, loss=2.2, train_acc=0.912]\n"
          ]
        },
        {
          "metadata": {
            "tags": null
          },
          "name": "stdout",
          "output_type": "stream",
          "text": [
            "Adjusting learning rate of group 0 to 2.0000e-04.\n",
            "Epoch 14/400 is finished with validation accuracy is 0.90684\n"
          ]
        },
        {
          "metadata": {
            "tags": null
          },
          "name": "stderr",
          "output_type": "stream",
          "text": [
            "Epoch 15/400: 100%|██████████| 106/106 [00:35<00:00,  2.96batch/s, loss=2.16, train_acc=0.915]\n"
          ]
        },
        {
          "metadata": {
            "tags": null
          },
          "name": "stdout",
          "output_type": "stream",
          "text": [
            "Adjusting learning rate of group 0 to 4.0000e-05.\n",
            "Epoch 15/400 is finished with validation accuracy is 0.9092\n"
          ]
        },
        {
          "metadata": {
            "tags": null
          },
          "name": "stderr",
          "output_type": "stream",
          "text": [
            "Epoch 16/400: 100%|██████████| 106/106 [00:35<00:00,  2.96batch/s, loss=2.29, train_acc=0.918]\n"
          ]
        },
        {
          "metadata": {
            "tags": null
          },
          "name": "stdout",
          "output_type": "stream",
          "text": [
            "Adjusting learning rate of group 0 to 4.0000e-05.\n",
            "Epoch 16/400 is finished with validation accuracy is 0.91392\n"
          ]
        },
        {
          "metadata": {
            "tags": null
          },
          "name": "stderr",
          "output_type": "stream",
          "text": [
            "Epoch 17/400: 100%|██████████| 106/106 [00:35<00:00,  2.98batch/s, loss=2.29, train_acc=0.913]\n"
          ]
        },
        {
          "metadata": {
            "tags": null
          },
          "name": "stdout",
          "output_type": "stream",
          "text": [
            "Adjusting learning rate of group 0 to 4.0000e-05.\n",
            "Epoch 17/400 is finished with validation accuracy is 0.90566\n"
          ]
        },
        {
          "metadata": {
            "tags": null
          },
          "name": "stderr",
          "output_type": "stream",
          "text": [
            "Epoch 18/400: 100%|██████████| 106/106 [00:35<00:00,  2.98batch/s, loss=2.21, train_acc=0.916]\n"
          ]
        },
        {
          "metadata": {
            "tags": null
          },
          "name": "stdout",
          "output_type": "stream",
          "text": [
            "Adjusting learning rate of group 0 to 4.0000e-05.\n",
            "Epoch 18/400 is finished with validation accuracy is 0.9092\n"
          ]
        },
        {
          "output_type": "stream",
          "name": "stderr",
          "text": [
            "Epoch 19/400: 100%|██████████| 106/106 [00:34<00:00,  3.06batch/s, loss=2.16, train_acc=0.922]\n"
          ]
        },
        {
          "output_type": "stream",
          "name": "stdout",
          "text": [
            "Adjusting learning rate of group 0 to 4.0000e-05.\n",
            "Epoch 19/400 is finished with validation accuracy is 0.91863\n"
          ]
        },
        {
          "output_type": "stream",
          "name": "stderr",
          "text": [
            "Epoch 20/400: 100%|██████████| 106/106 [00:34<00:00,  3.06batch/s, loss=2.23, train_acc=0.918]\n"
          ]
        },
        {
          "output_type": "stream",
          "name": "stdout",
          "text": [
            "Adjusting learning rate of group 0 to 8.0000e-06.\n",
            "Epoch 20/400 is finished with validation accuracy is 0.91745\n"
          ]
        },
        {
          "output_type": "stream",
          "name": "stderr",
          "text": [
            "Epoch 21/400: 100%|██████████| 106/106 [00:34<00:00,  3.05batch/s, loss=2.15, train_acc=0.921]\n"
          ]
        },
        {
          "output_type": "stream",
          "name": "stdout",
          "text": [
            "Adjusting learning rate of group 0 to 8.0000e-06.\n",
            "Epoch 21/400 is finished with validation accuracy is 0.91156\n"
          ]
        },
        {
          "output_type": "stream",
          "name": "stderr",
          "text": [
            "Epoch 22/400: 100%|██████████| 106/106 [00:34<00:00,  3.05batch/s, loss=2.27, train_acc=0.919]\n"
          ]
        },
        {
          "output_type": "stream",
          "name": "stdout",
          "text": [
            "Adjusting learning rate of group 0 to 8.0000e-06.\n",
            "Epoch 22/400 is finished with validation accuracy is 0.91509\n"
          ]
        },
        {
          "output_type": "stream",
          "name": "stderr",
          "text": [
            "Epoch 23/400: 100%|██████████| 106/106 [00:34<00:00,  3.04batch/s, loss=2.16, train_acc=0.923]\n"
          ]
        },
        {
          "output_type": "stream",
          "name": "stdout",
          "text": [
            "Adjusting learning rate of group 0 to 8.0000e-06.\n",
            "Epoch 23/400 is finished with validation accuracy is 0.91745\n"
          ]
        },
        {
          "output_type": "stream",
          "name": "stderr",
          "text": [
            "Epoch 24/400: 100%|██████████| 106/106 [00:34<00:00,  3.06batch/s, loss=2.17, train_acc=0.924]\n"
          ]
        },
        {
          "output_type": "stream",
          "name": "stdout",
          "text": [
            "Adjusting learning rate of group 0 to 8.0000e-06.\n",
            "Epoch 24/400 is finished with validation accuracy is 0.92217\n"
          ]
        },
        {
          "output_type": "stream",
          "name": "stderr",
          "text": [
            "Epoch 25/400: 100%|██████████| 106/106 [00:34<00:00,  3.05batch/s, loss=2.13, train_acc=0.921]\n"
          ]
        },
        {
          "output_type": "stream",
          "name": "stdout",
          "text": [
            "Adjusting learning rate of group 0 to 1.6000e-06.\n",
            "Epoch 25/400 is finished with validation accuracy is 0.91745\n"
          ]
        },
        {
          "output_type": "stream",
          "name": "stderr",
          "text": [
            "Epoch 26/400: 100%|██████████| 106/106 [00:34<00:00,  3.06batch/s, loss=2.25, train_acc=0.918]\n"
          ]
        },
        {
          "output_type": "stream",
          "name": "stdout",
          "text": [
            "Adjusting learning rate of group 0 to 1.6000e-06.\n",
            "Epoch 26/400 is finished with validation accuracy is 0.91509\n"
          ]
        },
        {
          "output_type": "stream",
          "name": "stderr",
          "text": [
            "Epoch 27/400: 100%|██████████| 106/106 [00:34<00:00,  3.05batch/s, loss=2.16, train_acc=0.917]\n"
          ]
        },
        {
          "output_type": "stream",
          "name": "stdout",
          "text": [
            "Adjusting learning rate of group 0 to 1.6000e-06.\n",
            "Epoch 27/400 is finished with validation accuracy is 0.91627\n"
          ]
        },
        {
          "output_type": "stream",
          "name": "stderr",
          "text": [
            "Epoch 28/400: 100%|██████████| 106/106 [00:34<00:00,  3.06batch/s, loss=2.18, train_acc=0.919]\n"
          ]
        },
        {
          "output_type": "stream",
          "name": "stdout",
          "text": [
            "Adjusting learning rate of group 0 to 1.6000e-06.\n",
            "Epoch 28/400 is finished with validation accuracy is 0.91509\n"
          ]
        },
        {
          "output_type": "stream",
          "name": "stderr",
          "text": [
            "Epoch 29/400: 100%|██████████| 106/106 [00:35<00:00,  2.96batch/s, loss=2.15, train_acc=0.92]\n"
          ]
        },
        {
          "output_type": "stream",
          "name": "stdout",
          "text": [
            "Adjusting learning rate of group 0 to 1.6000e-06.\n",
            "Epoch 29/400 is finished with validation accuracy is 0.91509\n"
          ]
        },
        {
          "output_type": "stream",
          "name": "stderr",
          "text": [
            "Epoch 30/400: 100%|██████████| 106/106 [00:35<00:00,  2.96batch/s, loss=2.19, train_acc=0.921]\n"
          ]
        },
        {
          "output_type": "stream",
          "name": "stdout",
          "text": [
            "Adjusting learning rate of group 0 to 3.2000e-07.\n",
            "Epoch 30/400 is finished with validation accuracy is 0.91392\n"
          ]
        },
        {
          "output_type": "stream",
          "name": "stderr",
          "text": [
            "Epoch 31/400: 100%|██████████| 106/106 [00:35<00:00,  2.98batch/s, loss=2.23, train_acc=0.92]\n"
          ]
        },
        {
          "output_type": "stream",
          "name": "stdout",
          "text": [
            "Adjusting learning rate of group 0 to 3.2000e-07.\n",
            "Epoch 31/400 is finished with validation accuracy is 0.91627\n"
          ]
        },
        {
          "output_type": "stream",
          "name": "stderr",
          "text": [
            "Epoch 32/400: 100%|██████████| 106/106 [00:35<00:00,  3.00batch/s, loss=2.18, train_acc=0.917]\n"
          ]
        },
        {
          "output_type": "stream",
          "name": "stdout",
          "text": [
            "Adjusting learning rate of group 0 to 3.2000e-07.\n",
            "Epoch 32/400 is finished with validation accuracy is 0.91509\n"
          ]
        },
        {
          "output_type": "stream",
          "name": "stderr",
          "text": [
            "Epoch 33/400: 100%|██████████| 106/106 [00:35<00:00,  3.02batch/s, loss=2.19, train_acc=0.921]\n"
          ]
        },
        {
          "output_type": "stream",
          "name": "stdout",
          "text": [
            "Adjusting learning rate of group 0 to 3.2000e-07.\n",
            "Epoch 33/400 is finished with validation accuracy is 0.90684\n"
          ]
        },
        {
          "output_type": "stream",
          "name": "stderr",
          "text": [
            "Epoch 34/400: 100%|██████████| 106/106 [00:35<00:00,  3.00batch/s, loss=2.18, train_acc=0.922]\n"
          ]
        },
        {
          "output_type": "stream",
          "name": "stdout",
          "text": [
            "Adjusting learning rate of group 0 to 3.2000e-07.\n",
            "Epoch 34/400 is finished with validation accuracy is 0.91509\n"
          ]
        },
        {
          "output_type": "stream",
          "name": "stderr",
          "text": [
            "Epoch 35/400: 100%|██████████| 106/106 [00:35<00:00,  3.00batch/s, loss=2.25, train_acc=0.92]\n"
          ]
        },
        {
          "output_type": "stream",
          "name": "stdout",
          "text": [
            "Adjusting learning rate of group 0 to 3.2000e-07.\n",
            "Epoch 35/400 is finished with validation accuracy is 0.91981\n"
          ]
        }
      ]
    },
    {
      "cell_type": "code",
      "source": [
        "# prune.py\n",
        "import torch.nn.utils.prune as prune\n",
        "import torch\n",
        "import torch.nn as nn\n",
        "import os\n",
        "import sys\n",
        "def measure_module_sparsity(module, weight=True, bias=False, use_mask=False):\n",
        "\n",
        "    num_zeros = 0\n",
        "    num_elements = 0\n",
        "\n",
        "    if use_mask == True:\n",
        "        for buffer_name, buffer in module.named_buffers():\n",
        "            if \"weight_mask\" in buffer_name and weight == True:\n",
        "                num_zeros += torch.sum(buffer == 0).item()\n",
        "                num_elements += buffer.nelement()\n",
        "            if \"bias_mask\" in buffer_name and bias == True:\n",
        "                num_zeros += torch.sum(buffer == 0).item()\n",
        "                num_elements += buffer.nelement()\n",
        "    else:\n",
        "        for param_name, param in module.named_parameters():\n",
        "            if \"weight\" in param_name and weight == True:\n",
        "                num_zeros += torch.sum(param == 0).item()\n",
        "                num_elements += param.nelement()\n",
        "            if \"bias\" in param_name and bias == True:\n",
        "                num_zeros += torch.sum(param == 0).item()\n",
        "                num_elements += param.nelement()\n",
        "\n",
        "    sparsity = num_zeros / num_elements\n",
        "\n",
        "    return num_zeros, num_elements, sparsity\n",
        "\n",
        "\n",
        "def measure_global_sparsity(model,\n",
        "                            weight=True,\n",
        "                            bias=False,\n",
        "                            conv2d_use_mask=False,\n",
        "                            linear_use_mask=False):\n",
        "\n",
        "    num_zeros = 0\n",
        "    num_elements = 0\n",
        "\n",
        "    for module_name, module in model.named_modules():\n",
        "\n",
        "        if isinstance(module, torch.nn.Conv2d):\n",
        "\n",
        "            module_num_zeros, module_num_elements, _ = measure_module_sparsity(\n",
        "                module, weight=weight, bias=bias, use_mask=conv2d_use_mask)\n",
        "            num_zeros += module_num_zeros\n",
        "            num_elements += module_num_elements\n",
        "\n",
        "        elif isinstance(module, torch.nn.Linear):\n",
        "\n",
        "            module_num_zeros, module_num_elements, _ = measure_module_sparsity(\n",
        "                module, weight=weight, bias=bias, use_mask=linear_use_mask)\n",
        "            num_zeros += module_num_zeros\n",
        "            num_elements += module_num_elements\n",
        "\n",
        "    sparsity = num_zeros / num_elements\n",
        "\n",
        "    return num_zeros, num_elements, sparsity\n",
        "\n",
        "\n",
        "def remove_parameters(model, opt):\n",
        "\n",
        "    for module_name, module in model.named_modules():\n",
        "        if isinstance(module, torch.nn.Conv2d):\n",
        "            try:\n",
        "                prune.remove(module, \"weight\")\n",
        "            except:\n",
        "                pass\n",
        "            try:\n",
        "                prune.remove(module, \"bias\")\n",
        "            except:\n",
        "                pass\n",
        "        elif isinstance(module, torch.nn.Linear) and module_name != opt['ignore_prune']:\n",
        "            try:\n",
        "                prune.remove(module, \"weight\")\n",
        "            except:\n",
        "                pass\n",
        "            try:\n",
        "                prune.remove(module, \"bias\")\n",
        "            except:\n",
        "                pass\n",
        "\n",
        "    return model\n",
        "def prune_model(model, prune_opt):\n",
        "    for name, module in model.named_modules():\n",
        "        # prune 20% of connections in all 2D-conv layers\n",
        "        if isinstance(module, torch.nn.Conv2d):\n",
        "            prune.l1_unstructured(module, name='weight', amount=prune_opt['conv_rate'])\n",
        "            prune.remove(module, name='weight')\n",
        "        if isinstance(module, torch.nn.Linear) and name != prune_opt['ignore_prune']: # Do not prune last layer\n",
        "            prune.l1_unstructured(module, name='weight', amount=prune_opt['linear_rate'])\n",
        "            prune.remove(module, name='weight')\n",
        "    return model\n",
        "\n",
        "#evaluate(model.to(\"cuda\"), val_loader, opt)"
      ],
      "metadata": {
        "id": "JL6FcZBJI2Ba"
      },
      "execution_count": null,
      "outputs": []
    },
    {
      "cell_type": "code",
      "source": [
        "prune_opt = {\n",
        "    'data_folder': '/content/data/images/CloneImages',\n",
        "    'num_classes': 20,\n",
        "    'batch_size': 32,\n",
        "    'val_batch_size': 128,\n",
        "    'checkpoint_pth': './checkpoint/pruned/',\n",
        "    'continual_checkpoint_pth': '/content/checkpoint/final_model.pt',\n",
        "\n",
        "    #'resume_from_checkpoint': False,\n",
        "    'model': 'resnet50',\n",
        "    'pretrained_weights': 'IMAGENET1K_V2',\n",
        "    'epoch': 400,\n",
        "    'early_stopping': True,\n",
        "    'patience': 10,\n",
        "    'optimizer': 'adam',\n",
        "    'learning_rate': 0.005,\n",
        "    'weight_decay': 4e-3,\n",
        "    'use_gpu': True,\n",
        "    'checkpoint_save_freq': 5,\n",
        "    'validation_split': 0.2,\n",
        "    'dropout': 0.35,\n",
        "    'num_hidden': 512,\n",
        "    'save_checkpoint': True,\n",
        "    'num_iterations': 2,\n",
        "    'conv_rate': 0.4,\n",
        "    'linear_rate': 0.4,\n",
        "    'ignore_prune': 'fc.3'\n",
        "    #'continue_train': False\n",
        "\n",
        "}\n",
        "def iterative_pruning_finetuning(opt):\n",
        "    train_loader, val_loader = getTrainValLoader(opt)\n",
        "    model, _, _, _, _, _, _, _ = load_from_checkpoint(opt)\n",
        "    os.makedirs(opt['checkpoint_pth'], exist_ok = True)\n",
        "\n",
        "    for cnt in range(1, opt['num_iterations'] + 1):\n",
        "      print(f\"==== Start process for pruning at iteration number {cnt} ====\\n\\n\")\n",
        "      print(f\"====                        Pruning                      ====\")\n",
        "\n",
        "      model = prune_model(model, opt) # Passed\n",
        "\n",
        "      print(f\"====                        Pruned                       ====\\n\\n\")\n",
        "      print(f\"====           Evaluate pruned model performance         ====\")\n",
        "\n",
        "\n",
        "      _, _, sparsity = measure_global_sparsity(model) # Passed\n",
        "      _, val_accuracy = evaluate(model, val_loader, opt)\n",
        "      print(f\"Pruned model's performance: {round((val_accuracy * 100), 2)}% accuracy on validation dataset\")\n",
        "      print(f\"Sparsity {sparsity * 100}%\")\n",
        "      print(f\"====               Evaluation process ended              ====\\n\\n\")\n",
        "      print(f\"====                       Finetune                      ====\")\n",
        "\n",
        "\n",
        "\n",
        "\n",
        "      optim = None\n",
        "\n",
        "      if opt['optimizer'] == \"sgd\":\n",
        "          optim = torch.optim.SGD(model.parameters(), lr=opt['learning_rate'], weight_decay=opt['weight_decay'], nesterov=True)\n",
        "      elif opt['optimizer'] == \"adam\":\n",
        "          optim = torch.optim.Adam(model.parameters(), lr=opt['learning_rate'], weight_decay=opt['weight_decay'], eps=1e-7)\n",
        "      elif opt['optimizer'] == \"adamw\":\n",
        "          optim = torch.optim.AdamW(model.parameters(), lr=opt['learning_rate'], weight_decay=opt['weight_decay'], eps=1e-7)\n",
        "      lr_scheduler = MultiStepLR(optim, milestones=[5, 10, 15, 20, 25, 30], gamma=0.2, verbose=True)\n",
        "      #reduceLROnPlateau = ReduceLROnPlateau(optim, patience=2, factor=0.1)\n",
        "      patience_cnt = 0\n",
        "\n",
        "      val_losses, losses, val_accuracies, train_accuracies = [], [], [], []\n",
        "\n",
        "      best_val_acc = -1\n",
        "      best_epoch = -1\n",
        "\n",
        "      for i in range(1, opt['epoch']+1):\n",
        "\n",
        "          model, optim, epoch_loss, train_acc, val_loss, val_acc = train_one_iter(model,\n",
        "                                                                                  optim, train_loader,\n",
        "                                                                                  val_loader, opt, epoch = i,\n",
        "                                                                                  lr_scheduler=lr_scheduler\n",
        "                                                                                )\n",
        "          losses.append(epoch_loss)\n",
        "          val_losses.append(val_loss)\n",
        "          val_accuracies.append(val_acc)\n",
        "          train_accuracies.append(train_acc)\n",
        "\n",
        "          if i % opt['checkpoint_save_freq'] == 0 and opt['save_checkpoint']:\n",
        "              torch.save({\n",
        "                  'opt': opt,\n",
        "                  'epoch': i,\n",
        "                  'model_state_dict': model.state_dict(),\n",
        "                  'optimizer_state_dict': optim.state_dict(),\n",
        "                  'losses': losses,\n",
        "                  'val_losses': val_losses,\n",
        "                  'train_acc': train_accuracies,\n",
        "                  'val_acc': val_accuracies,\n",
        "                  'device': \"cuda\" if opt['use_gpu'] and torch.cuda.is_available() else \"cpu\"\n",
        "              }, opt['checkpoint_pth']  + f\"/checkpoint_e{i}.pt\")\n",
        "          if val_acc > best_val_acc:\n",
        "              best_model = model\n",
        "              best_val_acc = val_acc\n",
        "              best_epoch = i\n",
        "              patience_cnt = 0 # Reset the patience_cnt\n",
        "          else: # Increase the patience for early_stopping if metric does not improve\n",
        "              patience_cnt += 1\n",
        "              if patience_cnt > opt['patience']:\n",
        "                  break\n",
        "\n",
        "\n",
        "\n",
        "      torch.save({\n",
        "          'opt': opt,\n",
        "          'model_state_dict': best_model.state_dict(),\n",
        "          'optimizer_state_dict': optim.state_dict(),\n",
        "          'epoch': best_epoch,\n",
        "          'losses': losses[:best_epoch],\n",
        "          'val_losses': val_losses[:best_epoch],\n",
        "          'train_acc': train_accuracies[:best_epoch],\n",
        "          'val_acc': val_accuracies[:best_epoch],\n",
        "          'device': \"cuda\" if opt['use_gpu'] and torch.cuda.is_available() else \"cpu\"\n",
        "\n",
        "      }, opt['checkpoint_pth'] + f\"/final_model_prune_iter_{cnt}.pt\")\n",
        "\n",
        "    model = remove_parameters(model, opt)\n",
        "    torch.save({\n",
        "      'opt': opt,\n",
        "      'model_state_dict': best_model.state_dict(),\n",
        "      'device': \"cuda\" if opt['use_gpu'] and torch.cuda.is_available() else \"cpu\"\n",
        "\n",
        "    }, opt['checkpoint_pth'] + f\"/final_model_prune.pt\")"
      ],
      "metadata": {
        "id": "qPd66qea-IkZ"
      },
      "execution_count": null,
      "outputs": []
    },
    {
      "cell_type": "code",
      "source": [
        "iterative_pruning_finetuning(prune_opt)"
      ],
      "metadata": {
        "id": "ptTY76NfhNDT",
        "colab": {
          "base_uri": "https://localhost:8080/"
        },
        "outputId": "44ff0171-7a6d-4613-b7a2-4933b45e2283"
      },
      "execution_count": null,
      "outputs": [
        {
          "metadata": {
            "tags": null
          },
          "name": "stdout",
          "output_type": "stream",
          "text": [
            "==== Start process for pruning at iteration number 1 ====\n",
            "\n",
            "\n",
            "====                        Pruning                      ====\n",
            "====                        Pruned                       ====\n",
            "\n",
            "\n",
            "====           Evaluate pruned model performance         ====\n",
            "Pruned model's performance: 3.54% accuracy on validation dataset\n",
            "Sparsity 78.25557173515183%\n",
            "====               Evaluation process ended              ====\n",
            "\n",
            "\n",
            "====                       Finetune                      ====\n",
            "Adjusting learning rate of group 0 to 5.0000e-03.\n"
          ]
        },
        {
          "metadata": {
            "tags": null
          },
          "name": "stderr",
          "output_type": "stream",
          "text": [
            "Epoch 1/400: 100%|██████████| 106/106 [00:37<00:00,  2.85batch/s, loss=2.75, train_acc=0.419]\n"
          ]
        },
        {
          "metadata": {
            "tags": null
          },
          "name": "stdout",
          "output_type": "stream",
          "text": [
            "Adjusting learning rate of group 0 to 5.0000e-03.\n",
            "Epoch 1/400 is finished with validation accuracy is 0.41274\n"
          ]
        },
        {
          "metadata": {
            "tags": null
          },
          "name": "stderr",
          "output_type": "stream",
          "text": [
            "Epoch 2/400: 100%|██████████| 106/106 [00:37<00:00,  2.85batch/s, loss=2.64, train_acc=0.443]\n"
          ]
        },
        {
          "metadata": {
            "tags": null
          },
          "name": "stdout",
          "output_type": "stream",
          "text": [
            "Adjusting learning rate of group 0 to 5.0000e-03.\n",
            "Epoch 2/400 is finished with validation accuracy is 0.50825\n"
          ]
        },
        {
          "metadata": {
            "tags": null
          },
          "name": "stderr",
          "output_type": "stream",
          "text": [
            "Epoch 3/400: 100%|██████████| 106/106 [00:39<00:00,  2.67batch/s, loss=2.68, train_acc=0.439]\n"
          ]
        },
        {
          "metadata": {
            "tags": null
          },
          "name": "stdout",
          "output_type": "stream",
          "text": [
            "Adjusting learning rate of group 0 to 5.0000e-03.\n",
            "Epoch 3/400 is finished with validation accuracy is 0.48113\n"
          ]
        },
        {
          "metadata": {
            "tags": null
          },
          "name": "stderr",
          "output_type": "stream",
          "text": [
            "Epoch 4/400: 100%|██████████| 106/106 [00:38<00:00,  2.74batch/s, loss=2.73, train_acc=0.44]\n"
          ]
        },
        {
          "metadata": {
            "tags": null
          },
          "name": "stdout",
          "output_type": "stream",
          "text": [
            "Adjusting learning rate of group 0 to 5.0000e-03.\n",
            "Epoch 4/400 is finished with validation accuracy is 0.47288\n"
          ]
        },
        {
          "metadata": {
            "tags": null
          },
          "name": "stderr",
          "output_type": "stream",
          "text": [
            "Epoch 5/400: 100%|██████████| 106/106 [00:37<00:00,  2.86batch/s, loss=2.69, train_acc=0.438]\n"
          ]
        },
        {
          "metadata": {
            "tags": null
          },
          "name": "stdout",
          "output_type": "stream",
          "text": [
            "Adjusting learning rate of group 0 to 1.0000e-03.\n",
            "Epoch 5/400 is finished with validation accuracy is 0.49882\n"
          ]
        },
        {
          "metadata": {
            "tags": null
          },
          "name": "stderr",
          "output_type": "stream",
          "text": [
            "Epoch 6/400: 100%|██████████| 106/106 [00:37<00:00,  2.81batch/s, loss=2.79, train_acc=0.509]\n"
          ]
        },
        {
          "metadata": {
            "tags": null
          },
          "name": "stdout",
          "output_type": "stream",
          "text": [
            "Adjusting learning rate of group 0 to 1.0000e-03.\n",
            "Epoch 6/400 is finished with validation accuracy is 0.52594\n"
          ]
        },
        {
          "metadata": {
            "tags": null
          },
          "name": "stderr",
          "output_type": "stream",
          "text": [
            "Epoch 7/400: 100%|██████████| 106/106 [00:37<00:00,  2.81batch/s, loss=2.7, train_acc=0.542]\n"
          ]
        },
        {
          "metadata": {
            "tags": null
          },
          "name": "stdout",
          "output_type": "stream",
          "text": [
            "Adjusting learning rate of group 0 to 1.0000e-03.\n",
            "Epoch 7/400 is finished with validation accuracy is 0.53302\n"
          ]
        },
        {
          "metadata": {
            "tags": null
          },
          "name": "stderr",
          "output_type": "stream",
          "text": [
            "Epoch 8/400: 100%|██████████| 106/106 [00:38<00:00,  2.76batch/s, loss=2.6, train_acc=0.548]\n"
          ]
        },
        {
          "metadata": {
            "tags": null
          },
          "name": "stdout",
          "output_type": "stream",
          "text": [
            "Adjusting learning rate of group 0 to 1.0000e-03.\n",
            "Epoch 8/400 is finished with validation accuracy is 0.55542\n"
          ]
        },
        {
          "metadata": {
            "tags": null
          },
          "name": "stderr",
          "output_type": "stream",
          "text": [
            "Epoch 9/400: 100%|██████████| 106/106 [00:38<00:00,  2.76batch/s, loss=2.57, train_acc=0.541]\n"
          ]
        },
        {
          "metadata": {
            "tags": null
          },
          "name": "stdout",
          "output_type": "stream",
          "text": [
            "Adjusting learning rate of group 0 to 1.0000e-03.\n",
            "Epoch 9/400 is finished with validation accuracy is 0.54953\n"
          ]
        },
        {
          "metadata": {
            "tags": null
          },
          "name": "stderr",
          "output_type": "stream",
          "text": [
            "Epoch 10/400: 100%|██████████| 106/106 [00:36<00:00,  2.90batch/s, loss=2.75, train_acc=0.549]\n"
          ]
        },
        {
          "metadata": {
            "tags": null
          },
          "name": "stdout",
          "output_type": "stream",
          "text": [
            "Adjusting learning rate of group 0 to 2.0000e-04.\n",
            "Epoch 10/400 is finished with validation accuracy is 0.55307\n"
          ]
        },
        {
          "metadata": {
            "tags": null
          },
          "name": "stderr",
          "output_type": "stream",
          "text": [
            "Epoch 11/400: 100%|██████████| 106/106 [00:37<00:00,  2.81batch/s, loss=2.55, train_acc=0.563]\n"
          ]
        },
        {
          "metadata": {
            "tags": null
          },
          "name": "stdout",
          "output_type": "stream",
          "text": [
            "Adjusting learning rate of group 0 to 2.0000e-04.\n",
            "Epoch 11/400 is finished with validation accuracy is 0.5566\n"
          ]
        },
        {
          "metadata": {
            "tags": null
          },
          "name": "stderr",
          "output_type": "stream",
          "text": [
            "Epoch 12/400: 100%|██████████| 106/106 [00:39<00:00,  2.70batch/s, loss=2.56, train_acc=0.58]\n"
          ]
        },
        {
          "metadata": {
            "tags": null
          },
          "name": "stdout",
          "output_type": "stream",
          "text": [
            "Adjusting learning rate of group 0 to 2.0000e-04.\n",
            "Epoch 12/400 is finished with validation accuracy is 0.55425\n"
          ]
        },
        {
          "metadata": {
            "tags": null
          },
          "name": "stderr",
          "output_type": "stream",
          "text": [
            "Epoch 13/400: 100%|██████████| 106/106 [00:39<00:00,  2.71batch/s, loss=2.6, train_acc=0.569]\n"
          ]
        },
        {
          "metadata": {
            "tags": null
          },
          "name": "stdout",
          "output_type": "stream",
          "text": [
            "Adjusting learning rate of group 0 to 2.0000e-04.\n",
            "Epoch 13/400 is finished with validation accuracy is 0.55778\n"
          ]
        },
        {
          "metadata": {
            "tags": null
          },
          "name": "stderr",
          "output_type": "stream",
          "text": [
            "Epoch 14/400: 100%|██████████| 106/106 [00:39<00:00,  2.72batch/s, loss=2.43, train_acc=0.572]\n"
          ]
        },
        {
          "metadata": {
            "tags": null
          },
          "name": "stdout",
          "output_type": "stream",
          "text": [
            "Adjusting learning rate of group 0 to 2.0000e-04.\n",
            "Epoch 14/400 is finished with validation accuracy is 0.56132\n"
          ]
        },
        {
          "metadata": {
            "tags": null
          },
          "name": "stderr",
          "output_type": "stream",
          "text": [
            "Epoch 15/400: 100%|██████████| 106/106 [00:38<00:00,  2.75batch/s, loss=2.68, train_acc=0.579]\n"
          ]
        },
        {
          "metadata": {
            "tags": null
          },
          "name": "stdout",
          "output_type": "stream",
          "text": [
            "Adjusting learning rate of group 0 to 4.0000e-05.\n",
            "Epoch 15/400 is finished with validation accuracy is 0.56486\n"
          ]
        },
        {
          "metadata": {
            "tags": null
          },
          "name": "stderr",
          "output_type": "stream",
          "text": [
            "Epoch 16/400: 100%|██████████| 106/106 [00:37<00:00,  2.86batch/s, loss=2.55, train_acc=0.584]\n"
          ]
        },
        {
          "metadata": {
            "tags": null
          },
          "name": "stdout",
          "output_type": "stream",
          "text": [
            "Adjusting learning rate of group 0 to 4.0000e-05.\n",
            "Epoch 16/400 is finished with validation accuracy is 0.56604\n"
          ]
        },
        {
          "metadata": {
            "tags": null
          },
          "name": "stderr",
          "output_type": "stream",
          "text": [
            "Epoch 17/400: 100%|██████████| 106/106 [00:36<00:00,  2.90batch/s, loss=2.55, train_acc=0.576]\n"
          ]
        },
        {
          "metadata": {
            "tags": null
          },
          "name": "stdout",
          "output_type": "stream",
          "text": [
            "Adjusting learning rate of group 0 to 4.0000e-05.\n",
            "Epoch 17/400 is finished with validation accuracy is 0.56486\n"
          ]
        },
        {
          "metadata": {
            "tags": null
          },
          "name": "stderr",
          "output_type": "stream",
          "text": [
            "Epoch 18/400: 100%|██████████| 106/106 [00:35<00:00,  2.95batch/s, loss=2.72, train_acc=0.583]\n"
          ]
        },
        {
          "metadata": {
            "tags": null
          },
          "name": "stdout",
          "output_type": "stream",
          "text": [
            "Adjusting learning rate of group 0 to 4.0000e-05.\n",
            "Epoch 18/400 is finished with validation accuracy is 0.56722\n"
          ]
        },
        {
          "metadata": {
            "tags": null
          },
          "name": "stderr",
          "output_type": "stream",
          "text": [
            "Epoch 19/400: 100%|██████████| 106/106 [00:35<00:00,  2.98batch/s, loss=2.57, train_acc=0.579]\n"
          ]
        },
        {
          "metadata": {
            "tags": null
          },
          "name": "stdout",
          "output_type": "stream",
          "text": [
            "Adjusting learning rate of group 0 to 4.0000e-05.\n",
            "Epoch 19/400 is finished with validation accuracy is 0.5684\n"
          ]
        },
        {
          "metadata": {
            "tags": null
          },
          "name": "stderr",
          "output_type": "stream",
          "text": [
            "Epoch 20/400: 100%|██████████| 106/106 [00:36<00:00,  2.94batch/s, loss=2.61, train_acc=0.58]\n"
          ]
        },
        {
          "metadata": {
            "tags": null
          },
          "name": "stdout",
          "output_type": "stream",
          "text": [
            "Adjusting learning rate of group 0 to 8.0000e-06.\n",
            "Epoch 20/400 is finished with validation accuracy is 0.5625\n"
          ]
        },
        {
          "metadata": {
            "tags": null
          },
          "name": "stderr",
          "output_type": "stream",
          "text": [
            "Epoch 21/400: 100%|██████████| 106/106 [00:35<00:00,  2.99batch/s, loss=2.64, train_acc=0.584]\n"
          ]
        },
        {
          "metadata": {
            "tags": null
          },
          "name": "stdout",
          "output_type": "stream",
          "text": [
            "Adjusting learning rate of group 0 to 8.0000e-06.\n",
            "Epoch 21/400 is finished with validation accuracy is 0.56486\n"
          ]
        },
        {
          "metadata": {
            "tags": null
          },
          "name": "stderr",
          "output_type": "stream",
          "text": [
            "Epoch 22/400: 100%|██████████| 106/106 [00:35<00:00,  2.98batch/s, loss=2.58, train_acc=0.586]\n"
          ]
        },
        {
          "metadata": {
            "tags": null
          },
          "name": "stdout",
          "output_type": "stream",
          "text": [
            "Adjusting learning rate of group 0 to 8.0000e-06.\n",
            "Epoch 22/400 is finished with validation accuracy is 0.5625\n"
          ]
        },
        {
          "metadata": {
            "tags": null
          },
          "name": "stderr",
          "output_type": "stream",
          "text": [
            "Epoch 23/400: 100%|██████████| 106/106 [00:35<00:00,  2.99batch/s, loss=2.65, train_acc=0.579]\n"
          ]
        },
        {
          "metadata": {
            "tags": null
          },
          "name": "stdout",
          "output_type": "stream",
          "text": [
            "Adjusting learning rate of group 0 to 8.0000e-06.\n",
            "Epoch 23/400 is finished with validation accuracy is 0.56486\n"
          ]
        },
        {
          "metadata": {
            "tags": null
          },
          "name": "stderr",
          "output_type": "stream",
          "text": [
            "Epoch 24/400: 100%|██████████| 106/106 [00:36<00:00,  2.90batch/s, loss=2.65, train_acc=0.581]\n"
          ]
        },
        {
          "metadata": {
            "tags": null
          },
          "name": "stdout",
          "output_type": "stream",
          "text": [
            "Adjusting learning rate of group 0 to 8.0000e-06.\n",
            "Epoch 24/400 is finished with validation accuracy is 0.57193\n"
          ]
        },
        {
          "metadata": {
            "tags": null
          },
          "name": "stderr",
          "output_type": "stream",
          "text": [
            "Epoch 25/400: 100%|██████████| 106/106 [00:35<00:00,  3.01batch/s, loss=2.48, train_acc=0.578]\n"
          ]
        },
        {
          "metadata": {
            "tags": null
          },
          "name": "stdout",
          "output_type": "stream",
          "text": [
            "Adjusting learning rate of group 0 to 1.6000e-06.\n",
            "Epoch 25/400 is finished with validation accuracy is 0.56958\n"
          ]
        },
        {
          "metadata": {
            "tags": null
          },
          "name": "stderr",
          "output_type": "stream",
          "text": [
            "Epoch 26/400: 100%|██████████| 106/106 [00:35<00:00,  3.03batch/s, loss=2.56, train_acc=0.581]\n"
          ]
        },
        {
          "metadata": {
            "tags": null
          },
          "name": "stdout",
          "output_type": "stream",
          "text": [
            "Adjusting learning rate of group 0 to 1.6000e-06.\n",
            "Epoch 26/400 is finished with validation accuracy is 0.56604\n"
          ]
        },
        {
          "metadata": {
            "tags": null
          },
          "name": "stderr",
          "output_type": "stream",
          "text": [
            "Epoch 27/400: 100%|██████████| 106/106 [00:34<00:00,  3.04batch/s, loss=2.6, train_acc=0.584]\n"
          ]
        },
        {
          "metadata": {
            "tags": null
          },
          "name": "stdout",
          "output_type": "stream",
          "text": [
            "Adjusting learning rate of group 0 to 1.6000e-06.\n",
            "Epoch 27/400 is finished with validation accuracy is 0.57311\n"
          ]
        },
        {
          "metadata": {
            "tags": null
          },
          "name": "stderr",
          "output_type": "stream",
          "text": [
            "Epoch 28/400: 100%|██████████| 106/106 [00:34<00:00,  3.04batch/s, loss=2.67, train_acc=0.585]\n"
          ]
        },
        {
          "metadata": {
            "tags": null
          },
          "name": "stdout",
          "output_type": "stream",
          "text": [
            "Adjusting learning rate of group 0 to 1.6000e-06.\n",
            "Epoch 28/400 is finished with validation accuracy is 0.56486\n"
          ]
        },
        {
          "metadata": {
            "tags": null
          },
          "name": "stderr",
          "output_type": "stream",
          "text": [
            "Epoch 29/400: 100%|██████████| 106/106 [00:34<00:00,  3.05batch/s, loss=2.62, train_acc=0.587]\n"
          ]
        },
        {
          "metadata": {
            "tags": null
          },
          "name": "stdout",
          "output_type": "stream",
          "text": [
            "Adjusting learning rate of group 0 to 1.6000e-06.\n",
            "Epoch 29/400 is finished with validation accuracy is 0.5684\n"
          ]
        },
        {
          "metadata": {
            "tags": null
          },
          "name": "stderr",
          "output_type": "stream",
          "text": [
            "Epoch 30/400: 100%|██████████| 106/106 [00:34<00:00,  3.04batch/s, loss=2.66, train_acc=0.585]\n"
          ]
        },
        {
          "metadata": {
            "tags": null
          },
          "name": "stdout",
          "output_type": "stream",
          "text": [
            "Adjusting learning rate of group 0 to 3.2000e-07.\n",
            "Epoch 30/400 is finished with validation accuracy is 0.57665\n"
          ]
        },
        {
          "metadata": {
            "tags": null
          },
          "name": "stderr",
          "output_type": "stream",
          "text": [
            "Epoch 31/400: 100%|██████████| 106/106 [00:34<00:00,  3.04batch/s, loss=2.54, train_acc=0.586]\n"
          ]
        },
        {
          "metadata": {
            "tags": null
          },
          "name": "stdout",
          "output_type": "stream",
          "text": [
            "Adjusting learning rate of group 0 to 3.2000e-07.\n",
            "Epoch 31/400 is finished with validation accuracy is 0.56132\n"
          ]
        },
        {
          "metadata": {
            "tags": null
          },
          "name": "stderr",
          "output_type": "stream",
          "text": [
            "Epoch 32/400: 100%|██████████| 106/106 [00:34<00:00,  3.03batch/s, loss=2.6, train_acc=0.586]\n"
          ]
        },
        {
          "metadata": {
            "tags": null
          },
          "name": "stdout",
          "output_type": "stream",
          "text": [
            "Adjusting learning rate of group 0 to 3.2000e-07.\n",
            "Epoch 32/400 is finished with validation accuracy is 0.5684\n"
          ]
        },
        {
          "metadata": {
            "tags": null
          },
          "name": "stderr",
          "output_type": "stream",
          "text": [
            "Epoch 33/400: 100%|██████████| 106/106 [00:34<00:00,  3.09batch/s, loss=2.58, train_acc=0.581]\n"
          ]
        },
        {
          "metadata": {
            "tags": null
          },
          "name": "stdout",
          "output_type": "stream",
          "text": [
            "Adjusting learning rate of group 0 to 3.2000e-07.\n",
            "Epoch 33/400 is finished with validation accuracy is 0.5684\n"
          ]
        },
        {
          "metadata": {
            "tags": null
          },
          "name": "stderr",
          "output_type": "stream",
          "text": [
            "Epoch 34/400: 100%|██████████| 106/106 [00:34<00:00,  3.05batch/s, loss=2.49, train_acc=0.587]\n"
          ]
        },
        {
          "metadata": {
            "tags": null
          },
          "name": "stdout",
          "output_type": "stream",
          "text": [
            "Adjusting learning rate of group 0 to 3.2000e-07.\n",
            "Epoch 34/400 is finished with validation accuracy is 0.56604\n"
          ]
        },
        {
          "metadata": {
            "tags": null
          },
          "name": "stderr",
          "output_type": "stream",
          "text": [
            "Epoch 35/400: 100%|██████████| 106/106 [00:34<00:00,  3.10batch/s, loss=2.49, train_acc=0.585]\n"
          ]
        },
        {
          "metadata": {
            "tags": null
          },
          "name": "stdout",
          "output_type": "stream",
          "text": [
            "Adjusting learning rate of group 0 to 3.2000e-07.\n",
            "Epoch 35/400 is finished with validation accuracy is 0.56722\n"
          ]
        },
        {
          "metadata": {
            "tags": null
          },
          "name": "stderr",
          "output_type": "stream",
          "text": [
            "Epoch 36/400: 100%|██████████| 106/106 [00:34<00:00,  3.04batch/s, loss=2.65, train_acc=0.578]\n"
          ]
        },
        {
          "metadata": {
            "tags": null
          },
          "name": "stdout",
          "output_type": "stream",
          "text": [
            "Adjusting learning rate of group 0 to 3.2000e-07.\n",
            "Epoch 36/400 is finished with validation accuracy is 0.56604\n"
          ]
        },
        {
          "metadata": {
            "tags": null
          },
          "name": "stderr",
          "output_type": "stream",
          "text": [
            "Epoch 37/400: 100%|██████████| 106/106 [00:34<00:00,  3.11batch/s, loss=2.56, train_acc=0.591]\n"
          ]
        },
        {
          "metadata": {
            "tags": null
          },
          "name": "stdout",
          "output_type": "stream",
          "text": [
            "Adjusting learning rate of group 0 to 3.2000e-07.\n",
            "Epoch 37/400 is finished with validation accuracy is 0.57783\n"
          ]
        },
        {
          "metadata": {
            "tags": null
          },
          "name": "stderr",
          "output_type": "stream",
          "text": [
            "Epoch 38/400: 100%|██████████| 106/106 [00:35<00:00,  3.02batch/s, loss=2.65, train_acc=0.585]\n"
          ]
        },
        {
          "metadata": {
            "tags": null
          },
          "name": "stdout",
          "output_type": "stream",
          "text": [
            "Adjusting learning rate of group 0 to 3.2000e-07.\n",
            "Epoch 38/400 is finished with validation accuracy is 0.55778\n"
          ]
        },
        {
          "metadata": {
            "tags": null
          },
          "name": "stderr",
          "output_type": "stream",
          "text": [
            "Epoch 39/400: 100%|██████████| 106/106 [00:34<00:00,  3.10batch/s, loss=2.56, train_acc=0.579]\n"
          ]
        },
        {
          "metadata": {
            "tags": null
          },
          "name": "stdout",
          "output_type": "stream",
          "text": [
            "Adjusting learning rate of group 0 to 3.2000e-07.\n",
            "Epoch 39/400 is finished with validation accuracy is 0.57075\n"
          ]
        },
        {
          "metadata": {
            "tags": null
          },
          "name": "stderr",
          "output_type": "stream",
          "text": [
            "Epoch 40/400: 100%|██████████| 106/106 [00:34<00:00,  3.04batch/s, loss=2.62, train_acc=0.588]\n"
          ]
        },
        {
          "metadata": {
            "tags": null
          },
          "name": "stdout",
          "output_type": "stream",
          "text": [
            "Adjusting learning rate of group 0 to 3.2000e-07.\n",
            "Epoch 40/400 is finished with validation accuracy is 0.56958\n"
          ]
        },
        {
          "metadata": {
            "tags": null
          },
          "name": "stderr",
          "output_type": "stream",
          "text": [
            "Epoch 41/400: 100%|██████████| 106/106 [00:34<00:00,  3.06batch/s, loss=2.53, train_acc=0.58]\n"
          ]
        },
        {
          "metadata": {
            "tags": null
          },
          "name": "stdout",
          "output_type": "stream",
          "text": [
            "Adjusting learning rate of group 0 to 3.2000e-07.\n",
            "Epoch 41/400 is finished with validation accuracy is 0.57193\n"
          ]
        },
        {
          "metadata": {
            "tags": null
          },
          "name": "stderr",
          "output_type": "stream",
          "text": [
            "Epoch 42/400: 100%|██████████| 106/106 [00:34<00:00,  3.05batch/s, loss=2.58, train_acc=0.587]\n"
          ]
        },
        {
          "metadata": {
            "tags": null
          },
          "name": "stdout",
          "output_type": "stream",
          "text": [
            "Adjusting learning rate of group 0 to 3.2000e-07.\n",
            "Epoch 42/400 is finished with validation accuracy is 0.56958\n"
          ]
        },
        {
          "metadata": {
            "tags": null
          },
          "name": "stderr",
          "output_type": "stream",
          "text": [
            "Epoch 43/400: 100%|██████████| 106/106 [00:34<00:00,  3.07batch/s, loss=2.48, train_acc=0.591]\n"
          ]
        },
        {
          "metadata": {
            "tags": null
          },
          "name": "stdout",
          "output_type": "stream",
          "text": [
            "Adjusting learning rate of group 0 to 3.2000e-07.\n",
            "Epoch 43/400 is finished with validation accuracy is 0.56486\n"
          ]
        },
        {
          "metadata": {
            "tags": null
          },
          "name": "stderr",
          "output_type": "stream",
          "text": [
            "Epoch 44/400: 100%|██████████| 106/106 [00:34<00:00,  3.04batch/s, loss=2.59, train_acc=0.583]\n"
          ]
        },
        {
          "metadata": {
            "tags": null
          },
          "name": "stdout",
          "output_type": "stream",
          "text": [
            "Adjusting learning rate of group 0 to 3.2000e-07.\n",
            "Epoch 44/400 is finished with validation accuracy is 0.5625\n"
          ]
        },
        {
          "metadata": {
            "tags": null
          },
          "name": "stderr",
          "output_type": "stream",
          "text": [
            "Epoch 45/400: 100%|██████████| 106/106 [00:34<00:00,  3.04batch/s, loss=2.39, train_acc=0.585]\n"
          ]
        },
        {
          "metadata": {
            "tags": null
          },
          "name": "stdout",
          "output_type": "stream",
          "text": [
            "Adjusting learning rate of group 0 to 3.2000e-07.\n",
            "Epoch 45/400 is finished with validation accuracy is 0.56722\n"
          ]
        },
        {
          "metadata": {
            "tags": null
          },
          "name": "stderr",
          "output_type": "stream",
          "text": [
            "Epoch 46/400: 100%|██████████| 106/106 [00:35<00:00,  3.02batch/s, loss=2.68, train_acc=0.578]\n"
          ]
        },
        {
          "metadata": {
            "tags": null
          },
          "name": "stdout",
          "output_type": "stream",
          "text": [
            "Adjusting learning rate of group 0 to 3.2000e-07.\n",
            "Epoch 46/400 is finished with validation accuracy is 0.57075\n"
          ]
        },
        {
          "metadata": {
            "tags": null
          },
          "name": "stderr",
          "output_type": "stream",
          "text": [
            "Epoch 47/400: 100%|██████████| 106/106 [00:35<00:00,  2.96batch/s, loss=2.66, train_acc=0.579]\n"
          ]
        },
        {
          "metadata": {
            "tags": null
          },
          "name": "stdout",
          "output_type": "stream",
          "text": [
            "Adjusting learning rate of group 0 to 3.2000e-07.\n",
            "Epoch 47/400 is finished with validation accuracy is 0.56368\n"
          ]
        },
        {
          "metadata": {
            "tags": null
          },
          "name": "stderr",
          "output_type": "stream",
          "text": [
            "Epoch 48/400: 100%|██████████| 106/106 [00:34<00:00,  3.03batch/s, loss=2.6, train_acc=0.582]\n"
          ]
        },
        {
          "metadata": {
            "tags": null
          },
          "name": "stdout",
          "output_type": "stream",
          "text": [
            "Adjusting learning rate of group 0 to 3.2000e-07.\n",
            "Epoch 48/400 is finished with validation accuracy is 0.57193\n",
            "==== Start process for pruning at iteration number 2 ====\n",
            "\n",
            "\n",
            "====                        Pruning                      ====\n",
            "====                        Pruned                       ====\n",
            "\n",
            "\n",
            "====           Evaluate pruned model performance         ====\n",
            "Pruned model's performance: 57.43% accuracy on validation dataset\n",
            "Sparsity 78.25557173515183%\n",
            "====               Evaluation process ended              ====\n",
            "\n",
            "\n",
            "====                       Finetune                      ====\n",
            "Adjusting learning rate of group 0 to 5.0000e-03.\n"
          ]
        },
        {
          "metadata": {
            "tags": null
          },
          "name": "stderr",
          "output_type": "stream",
          "text": [
            "Epoch 1/400: 100%|██████████| 106/106 [00:34<00:00,  3.04batch/s, loss=2.78, train_acc=0.408]\n"
          ]
        },
        {
          "metadata": {
            "tags": null
          },
          "name": "stdout",
          "output_type": "stream",
          "text": [
            "Adjusting learning rate of group 0 to 5.0000e-03.\n",
            "Epoch 1/400 is finished with validation accuracy is 0.39858\n"
          ]
        },
        {
          "metadata": {
            "tags": null
          },
          "name": "stderr",
          "output_type": "stream",
          "text": [
            "Epoch 2/400: 100%|██████████| 106/106 [00:34<00:00,  3.04batch/s, loss=2.82, train_acc=0.444]\n"
          ]
        },
        {
          "metadata": {
            "tags": null
          },
          "name": "stdout",
          "output_type": "stream",
          "text": [
            "Adjusting learning rate of group 0 to 5.0000e-03.\n",
            "Epoch 2/400 is finished with validation accuracy is 0.33491\n"
          ]
        },
        {
          "metadata": {
            "tags": null
          },
          "name": "stderr",
          "output_type": "stream",
          "text": [
            "Epoch 3/400: 100%|██████████| 106/106 [00:34<00:00,  3.03batch/s, loss=2.51, train_acc=0.433]\n"
          ]
        },
        {
          "metadata": {
            "tags": null
          },
          "name": "stdout",
          "output_type": "stream",
          "text": [
            "Adjusting learning rate of group 0 to 5.0000e-03.\n",
            "Epoch 3/400 is finished with validation accuracy is 0.45755\n"
          ]
        },
        {
          "metadata": {
            "tags": null
          },
          "name": "stderr",
          "output_type": "stream",
          "text": [
            "Epoch 4/400: 100%|██████████| 106/106 [00:35<00:00,  3.02batch/s, loss=2.6, train_acc=0.442]\n"
          ]
        },
        {
          "metadata": {
            "tags": null
          },
          "name": "stdout",
          "output_type": "stream",
          "text": [
            "Adjusting learning rate of group 0 to 5.0000e-03.\n",
            "Epoch 4/400 is finished with validation accuracy is 0.5283\n"
          ]
        },
        {
          "metadata": {
            "tags": null
          },
          "name": "stderr",
          "output_type": "stream",
          "text": [
            "Epoch 5/400: 100%|██████████| 106/106 [00:34<00:00,  3.03batch/s, loss=2.65, train_acc=0.448]\n"
          ]
        },
        {
          "metadata": {
            "tags": null
          },
          "name": "stdout",
          "output_type": "stream",
          "text": [
            "Adjusting learning rate of group 0 to 1.0000e-03.\n",
            "Epoch 5/400 is finished with validation accuracy is 0.51887\n"
          ]
        },
        {
          "metadata": {
            "tags": null
          },
          "name": "stderr",
          "output_type": "stream",
          "text": [
            "Epoch 6/400: 100%|██████████| 106/106 [00:34<00:00,  3.06batch/s, loss=2.8, train_acc=0.527]\n"
          ]
        },
        {
          "metadata": {
            "tags": null
          },
          "name": "stdout",
          "output_type": "stream",
          "text": [
            "Adjusting learning rate of group 0 to 1.0000e-03.\n",
            "Epoch 6/400 is finished with validation accuracy is 0.55071\n"
          ]
        },
        {
          "metadata": {
            "tags": null
          },
          "name": "stderr",
          "output_type": "stream",
          "text": [
            "Epoch 7/400: 100%|██████████| 106/106 [00:34<00:00,  3.04batch/s, loss=2.77, train_acc=0.539]\n"
          ]
        },
        {
          "metadata": {
            "tags": null
          },
          "name": "stdout",
          "output_type": "stream",
          "text": [
            "Adjusting learning rate of group 0 to 1.0000e-03.\n",
            "Epoch 7/400 is finished with validation accuracy is 0.5566\n"
          ]
        },
        {
          "metadata": {
            "tags": null
          },
          "name": "stderr",
          "output_type": "stream",
          "text": [
            "Epoch 8/400: 100%|██████████| 106/106 [00:34<00:00,  3.03batch/s, loss=2.46, train_acc=0.539]\n"
          ]
        },
        {
          "metadata": {
            "tags": null
          },
          "name": "stdout",
          "output_type": "stream",
          "text": [
            "Adjusting learning rate of group 0 to 1.0000e-03.\n",
            "Epoch 8/400 is finished with validation accuracy is 0.55425\n"
          ]
        },
        {
          "metadata": {
            "tags": null
          },
          "name": "stderr",
          "output_type": "stream",
          "text": [
            "Epoch 9/400: 100%|██████████| 106/106 [00:34<00:00,  3.04batch/s, loss=2.69, train_acc=0.537]\n"
          ]
        },
        {
          "metadata": {
            "tags": null
          },
          "name": "stdout",
          "output_type": "stream",
          "text": [
            "Adjusting learning rate of group 0 to 1.0000e-03.\n",
            "Epoch 9/400 is finished with validation accuracy is 0.5566\n"
          ]
        },
        {
          "metadata": {
            "tags": null
          },
          "name": "stderr",
          "output_type": "stream",
          "text": [
            "Epoch 10/400: 100%|██████████| 106/106 [00:34<00:00,  3.07batch/s, loss=2.76, train_acc=0.54]\n"
          ]
        },
        {
          "metadata": {
            "tags": null
          },
          "name": "stdout",
          "output_type": "stream",
          "text": [
            "Adjusting learning rate of group 0 to 2.0000e-04.\n",
            "Epoch 10/400 is finished with validation accuracy is 0.54481\n"
          ]
        },
        {
          "metadata": {
            "tags": null
          },
          "name": "stderr",
          "output_type": "stream",
          "text": [
            "Epoch 11/400: 100%|██████████| 106/106 [00:34<00:00,  3.03batch/s, loss=2.68, train_acc=0.564]\n"
          ]
        },
        {
          "metadata": {
            "tags": null
          },
          "name": "stdout",
          "output_type": "stream",
          "text": [
            "Adjusting learning rate of group 0 to 2.0000e-04.\n",
            "Epoch 11/400 is finished with validation accuracy is 0.57429\n"
          ]
        },
        {
          "metadata": {
            "tags": null
          },
          "name": "stderr",
          "output_type": "stream",
          "text": [
            "Epoch 12/400: 100%|██████████| 106/106 [00:34<00:00,  3.08batch/s, loss=2.64, train_acc=0.562]\n"
          ]
        },
        {
          "metadata": {
            "tags": null
          },
          "name": "stdout",
          "output_type": "stream",
          "text": [
            "Adjusting learning rate of group 0 to 2.0000e-04.\n",
            "Epoch 12/400 is finished with validation accuracy is 0.56368\n"
          ]
        },
        {
          "metadata": {
            "tags": null
          },
          "name": "stderr",
          "output_type": "stream",
          "text": [
            "Epoch 13/400: 100%|██████████| 106/106 [00:34<00:00,  3.04batch/s, loss=2.56, train_acc=0.576]\n"
          ]
        },
        {
          "metadata": {
            "tags": null
          },
          "name": "stdout",
          "output_type": "stream",
          "text": [
            "Adjusting learning rate of group 0 to 2.0000e-04.\n",
            "Epoch 13/400 is finished with validation accuracy is 0.56604\n"
          ]
        },
        {
          "metadata": {
            "tags": null
          },
          "name": "stderr",
          "output_type": "stream",
          "text": [
            "Epoch 14/400: 100%|██████████| 106/106 [00:34<00:00,  3.11batch/s, loss=2.62, train_acc=0.573]\n"
          ]
        },
        {
          "metadata": {
            "tags": null
          },
          "name": "stdout",
          "output_type": "stream",
          "text": [
            "Adjusting learning rate of group 0 to 2.0000e-04.\n",
            "Epoch 14/400 is finished with validation accuracy is 0.56486\n"
          ]
        },
        {
          "metadata": {
            "tags": null
          },
          "name": "stderr",
          "output_type": "stream",
          "text": [
            "Epoch 15/400: 100%|██████████| 106/106 [00:34<00:00,  3.03batch/s, loss=2.51, train_acc=0.574]\n"
          ]
        },
        {
          "metadata": {
            "tags": null
          },
          "name": "stdout",
          "output_type": "stream",
          "text": [
            "Adjusting learning rate of group 0 to 4.0000e-05.\n",
            "Epoch 15/400 is finished with validation accuracy is 0.55071\n"
          ]
        },
        {
          "metadata": {
            "tags": null
          },
          "name": "stderr",
          "output_type": "stream",
          "text": [
            "Epoch 16/400: 100%|██████████| 106/106 [00:34<00:00,  3.10batch/s, loss=2.57, train_acc=0.577]\n"
          ]
        },
        {
          "metadata": {
            "tags": null
          },
          "name": "stdout",
          "output_type": "stream",
          "text": [
            "Adjusting learning rate of group 0 to 4.0000e-05.\n",
            "Epoch 16/400 is finished with validation accuracy is 0.56486\n"
          ]
        },
        {
          "metadata": {
            "tags": null
          },
          "name": "stderr",
          "output_type": "stream",
          "text": [
            "Epoch 17/400: 100%|██████████| 106/106 [00:34<00:00,  3.04batch/s, loss=2.51, train_acc=0.577]\n"
          ]
        },
        {
          "metadata": {
            "tags": null
          },
          "name": "stdout",
          "output_type": "stream",
          "text": [
            "Adjusting learning rate of group 0 to 4.0000e-05.\n",
            "Epoch 17/400 is finished with validation accuracy is 0.56486\n"
          ]
        },
        {
          "metadata": {
            "tags": null
          },
          "name": "stderr",
          "output_type": "stream",
          "text": [
            "Epoch 18/400: 100%|██████████| 106/106 [00:34<00:00,  3.10batch/s, loss=2.54, train_acc=0.577]\n"
          ]
        },
        {
          "metadata": {
            "tags": null
          },
          "name": "stdout",
          "output_type": "stream",
          "text": [
            "Adjusting learning rate of group 0 to 4.0000e-05.\n",
            "Epoch 18/400 is finished with validation accuracy is 0.57193\n"
          ]
        },
        {
          "metadata": {
            "tags": null
          },
          "name": "stderr",
          "output_type": "stream",
          "text": [
            "Epoch 19/400: 100%|██████████| 106/106 [00:34<00:00,  3.04batch/s, loss=2.52, train_acc=0.579]\n"
          ]
        },
        {
          "metadata": {
            "tags": null
          },
          "name": "stdout",
          "output_type": "stream",
          "text": [
            "Adjusting learning rate of group 0 to 4.0000e-05.\n",
            "Epoch 19/400 is finished with validation accuracy is 0.57547\n"
          ]
        },
        {
          "metadata": {
            "tags": null
          },
          "name": "stderr",
          "output_type": "stream",
          "text": [
            "Epoch 20/400: 100%|██████████| 106/106 [00:34<00:00,  3.08batch/s, loss=2.63, train_acc=0.575]\n"
          ]
        },
        {
          "metadata": {
            "tags": null
          },
          "name": "stdout",
          "output_type": "stream",
          "text": [
            "Adjusting learning rate of group 0 to 8.0000e-06.\n",
            "Epoch 20/400 is finished with validation accuracy is 0.56958\n"
          ]
        },
        {
          "metadata": {
            "tags": null
          },
          "name": "stderr",
          "output_type": "stream",
          "text": [
            "Epoch 21/400: 100%|██████████| 106/106 [00:34<00:00,  3.04batch/s, loss=2.65, train_acc=0.588]\n"
          ]
        },
        {
          "metadata": {
            "tags": null
          },
          "name": "stdout",
          "output_type": "stream",
          "text": [
            "Adjusting learning rate of group 0 to 8.0000e-06.\n",
            "Epoch 21/400 is finished with validation accuracy is 0.5625\n"
          ]
        },
        {
          "metadata": {
            "tags": null
          },
          "name": "stderr",
          "output_type": "stream",
          "text": [
            "Epoch 22/400: 100%|██████████| 106/106 [00:34<00:00,  3.07batch/s, loss=2.56, train_acc=0.576]\n"
          ]
        },
        {
          "metadata": {
            "tags": null
          },
          "name": "stdout",
          "output_type": "stream",
          "text": [
            "Adjusting learning rate of group 0 to 8.0000e-06.\n",
            "Epoch 22/400 is finished with validation accuracy is 0.5625\n"
          ]
        },
        {
          "metadata": {
            "tags": null
          },
          "name": "stderr",
          "output_type": "stream",
          "text": [
            "Epoch 23/400: 100%|██████████| 106/106 [00:34<00:00,  3.04batch/s, loss=2.63, train_acc=0.575]\n"
          ]
        },
        {
          "metadata": {
            "tags": null
          },
          "name": "stdout",
          "output_type": "stream",
          "text": [
            "Adjusting learning rate of group 0 to 8.0000e-06.\n",
            "Epoch 23/400 is finished with validation accuracy is 0.57547\n"
          ]
        },
        {
          "metadata": {
            "tags": null
          },
          "name": "stderr",
          "output_type": "stream",
          "text": [
            "Epoch 24/400: 100%|██████████| 106/106 [00:34<00:00,  3.04batch/s, loss=2.54, train_acc=0.583]\n"
          ]
        },
        {
          "metadata": {
            "tags": null
          },
          "name": "stdout",
          "output_type": "stream",
          "text": [
            "Adjusting learning rate of group 0 to 8.0000e-06.\n",
            "Epoch 24/400 is finished with validation accuracy is 0.57547\n"
          ]
        },
        {
          "metadata": {
            "tags": null
          },
          "name": "stderr",
          "output_type": "stream",
          "text": [
            "Epoch 25/400: 100%|██████████| 106/106 [00:34<00:00,  3.03batch/s, loss=2.61, train_acc=0.58]\n"
          ]
        },
        {
          "metadata": {
            "tags": null
          },
          "name": "stdout",
          "output_type": "stream",
          "text": [
            "Adjusting learning rate of group 0 to 1.6000e-06.\n",
            "Epoch 25/400 is finished with validation accuracy is 0.57665\n"
          ]
        },
        {
          "metadata": {
            "tags": null
          },
          "name": "stderr",
          "output_type": "stream",
          "text": [
            "Epoch 26/400: 100%|██████████| 106/106 [00:35<00:00,  3.03batch/s, loss=2.57, train_acc=0.574]\n"
          ]
        },
        {
          "metadata": {
            "tags": null
          },
          "name": "stdout",
          "output_type": "stream",
          "text": [
            "Adjusting learning rate of group 0 to 1.6000e-06.\n",
            "Epoch 26/400 is finished with validation accuracy is 0.57075\n"
          ]
        },
        {
          "metadata": {
            "tags": null
          },
          "name": "stderr",
          "output_type": "stream",
          "text": [
            "Epoch 27/400: 100%|██████████| 106/106 [00:34<00:00,  3.04batch/s, loss=2.62, train_acc=0.575]\n"
          ]
        },
        {
          "metadata": {
            "tags": null
          },
          "name": "stdout",
          "output_type": "stream",
          "text": [
            "Adjusting learning rate of group 0 to 1.6000e-06.\n",
            "Epoch 27/400 is finished with validation accuracy is 0.57075\n"
          ]
        },
        {
          "metadata": {
            "tags": null
          },
          "name": "stderr",
          "output_type": "stream",
          "text": [
            "Epoch 28/400: 100%|██████████| 106/106 [00:34<00:00,  3.05batch/s, loss=2.54, train_acc=0.58]\n"
          ]
        },
        {
          "metadata": {
            "tags": null
          },
          "name": "stdout",
          "output_type": "stream",
          "text": [
            "Adjusting learning rate of group 0 to 1.6000e-06.\n",
            "Epoch 28/400 is finished with validation accuracy is 0.57429\n"
          ]
        },
        {
          "metadata": {
            "tags": null
          },
          "name": "stderr",
          "output_type": "stream",
          "text": [
            "Epoch 29/400: 100%|██████████| 106/106 [00:34<00:00,  3.03batch/s, loss=2.56, train_acc=0.582]\n"
          ]
        },
        {
          "metadata": {
            "tags": null
          },
          "name": "stdout",
          "output_type": "stream",
          "text": [
            "Adjusting learning rate of group 0 to 1.6000e-06.\n",
            "Epoch 29/400 is finished with validation accuracy is 0.56368\n"
          ]
        },
        {
          "metadata": {
            "tags": null
          },
          "name": "stderr",
          "output_type": "stream",
          "text": [
            "Epoch 30/400: 100%|██████████| 106/106 [00:34<00:00,  3.08batch/s, loss=2.59, train_acc=0.581]\n"
          ]
        },
        {
          "metadata": {
            "tags": null
          },
          "name": "stdout",
          "output_type": "stream",
          "text": [
            "Adjusting learning rate of group 0 to 3.2000e-07.\n",
            "Epoch 30/400 is finished with validation accuracy is 0.57783\n"
          ]
        },
        {
          "metadata": {
            "tags": null
          },
          "name": "stderr",
          "output_type": "stream",
          "text": [
            "Epoch 31/400: 100%|██████████| 106/106 [00:34<00:00,  3.11batch/s, loss=2.59, train_acc=0.578]\n"
          ]
        },
        {
          "metadata": {
            "tags": null
          },
          "name": "stdout",
          "output_type": "stream",
          "text": [
            "Adjusting learning rate of group 0 to 3.2000e-07.\n",
            "Epoch 31/400 is finished with validation accuracy is 0.57429\n"
          ]
        },
        {
          "metadata": {
            "tags": null
          },
          "name": "stderr",
          "output_type": "stream",
          "text": [
            "Epoch 32/400: 100%|██████████| 106/106 [00:33<00:00,  3.15batch/s, loss=2.54, train_acc=0.585]\n"
          ]
        },
        {
          "metadata": {
            "tags": null
          },
          "name": "stdout",
          "output_type": "stream",
          "text": [
            "Adjusting learning rate of group 0 to 3.2000e-07.\n",
            "Epoch 32/400 is finished with validation accuracy is 0.5625\n"
          ]
        },
        {
          "metadata": {
            "tags": null
          },
          "name": "stderr",
          "output_type": "stream",
          "text": [
            "Epoch 33/400: 100%|██████████| 106/106 [00:33<00:00,  3.16batch/s, loss=2.53, train_acc=0.583]\n"
          ]
        },
        {
          "metadata": {
            "tags": null
          },
          "name": "stdout",
          "output_type": "stream",
          "text": [
            "Adjusting learning rate of group 0 to 3.2000e-07.\n",
            "Epoch 33/400 is finished with validation accuracy is 0.57193\n"
          ]
        },
        {
          "metadata": {
            "tags": null
          },
          "name": "stderr",
          "output_type": "stream",
          "text": [
            "Epoch 34/400: 100%|██████████| 106/106 [00:33<00:00,  3.17batch/s, loss=2.55, train_acc=0.579]\n"
          ]
        },
        {
          "metadata": {
            "tags": null
          },
          "name": "stdout",
          "output_type": "stream",
          "text": [
            "Adjusting learning rate of group 0 to 3.2000e-07.\n",
            "Epoch 34/400 is finished with validation accuracy is 0.56722\n"
          ]
        },
        {
          "output_type": "stream",
          "name": "stderr",
          "text": [
            "Epoch 35/400: 100%|██████████| 106/106 [00:33<00:00,  3.15batch/s, loss=2.48, train_acc=0.584]\n"
          ]
        },
        {
          "output_type": "stream",
          "name": "stdout",
          "text": [
            "Adjusting learning rate of group 0 to 3.2000e-07.\n",
            "Epoch 35/400 is finished with validation accuracy is 0.56014\n"
          ]
        },
        {
          "output_type": "stream",
          "name": "stderr",
          "text": [
            "Epoch 36/400: 100%|██████████| 106/106 [00:34<00:00,  3.11batch/s, loss=2.55, train_acc=0.58]\n"
          ]
        },
        {
          "output_type": "stream",
          "name": "stdout",
          "text": [
            "Adjusting learning rate of group 0 to 3.2000e-07.\n",
            "Epoch 36/400 is finished with validation accuracy is 0.56486\n"
          ]
        },
        {
          "output_type": "stream",
          "name": "stderr",
          "text": [
            "Epoch 37/400: 100%|██████████| 106/106 [00:33<00:00,  3.13batch/s, loss=2.54, train_acc=0.578]\n"
          ]
        },
        {
          "output_type": "stream",
          "name": "stdout",
          "text": [
            "Adjusting learning rate of group 0 to 3.2000e-07.\n",
            "Epoch 37/400 is finished with validation accuracy is 0.56368\n"
          ]
        },
        {
          "output_type": "stream",
          "name": "stderr",
          "text": [
            "Epoch 38/400: 100%|██████████| 106/106 [00:34<00:00,  3.11batch/s, loss=2.37, train_acc=0.577]\n"
          ]
        },
        {
          "output_type": "stream",
          "name": "stdout",
          "text": [
            "Adjusting learning rate of group 0 to 3.2000e-07.\n",
            "Epoch 38/400 is finished with validation accuracy is 0.56958\n"
          ]
        },
        {
          "output_type": "stream",
          "name": "stderr",
          "text": [
            "Epoch 39/400: 100%|██████████| 106/106 [00:34<00:00,  3.10batch/s, loss=2.67, train_acc=0.581]\n"
          ]
        },
        {
          "output_type": "stream",
          "name": "stdout",
          "text": [
            "Adjusting learning rate of group 0 to 3.2000e-07.\n",
            "Epoch 39/400 is finished with validation accuracy is 0.5566\n"
          ]
        },
        {
          "output_type": "stream",
          "name": "stderr",
          "text": [
            "Epoch 40/400: 100%|██████████| 106/106 [00:34<00:00,  3.08batch/s, loss=2.6, train_acc=0.58]\n"
          ]
        },
        {
          "output_type": "stream",
          "name": "stdout",
          "text": [
            "Adjusting learning rate of group 0 to 3.2000e-07.\n",
            "Epoch 40/400 is finished with validation accuracy is 0.56486\n"
          ]
        },
        {
          "output_type": "stream",
          "name": "stderr",
          "text": [
            "Epoch 41/400: 100%|██████████| 106/106 [00:34<00:00,  3.12batch/s, loss=2.55, train_acc=0.585]\n"
          ]
        },
        {
          "output_type": "stream",
          "name": "stdout",
          "text": [
            "Adjusting learning rate of group 0 to 3.2000e-07.\n",
            "Epoch 41/400 is finished with validation accuracy is 0.57075\n"
          ]
        }
      ]
    }
  ]
}